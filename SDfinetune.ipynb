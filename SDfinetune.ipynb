{
 "cells": [
  {
   "cell_type": "code",
   "execution_count": 1,
   "id": "93ed7968-c3b2-43e4-a870-8c3ba6e524c5",
   "metadata": {},
   "outputs": [
    {
     "name": "stdout",
     "output_type": "stream",
     "text": [
      "\u001b[33mWARNING: Running pip as the 'root' user can result in broken permissions and conflicting behaviour with the system package manager, possibly rendering your system unusable.It is recommended to use a virtual environment instead: https://pip.pypa.io/warnings/venv. Use the --root-user-action option if you know what you are doing and want to suppress this warning.\u001b[0m\u001b[33m\n",
      "\u001b[0m"
     ]
    }
   ],
   "source": [
    "!pip install -q diffusers transformers accelerate safetensors torch torchvision --upgrade"
   ]
  },
  {
   "cell_type": "code",
   "execution_count": 2,
   "id": "2e77d5b0-13ba-49f8-87f2-3e51c10707a5",
   "metadata": {},
   "outputs": [
    {
     "name": "stdout",
     "output_type": "stream",
     "text": [
      "Collecting git+https://github.com/huggingface/diffusers.git\n",
      "  Cloning https://github.com/huggingface/diffusers.git to /tmp/pip-req-build-un1vbu9s\n",
      "  Running command git clone --filter=blob:none --quiet https://github.com/huggingface/diffusers.git /tmp/pip-req-build-un1vbu9s\n",
      "  Resolved https://github.com/huggingface/diffusers.git to commit 100142586f82a9410f5bc393b9eb06c12d771006\n",
      "  Installing build dependencies ... \u001b[?2done\n",
      "\u001b[?25h  Getting requirements to build wheel ... \u001b[?25ldone\n",
      "\u001b[?25h  Preparing metadata (pyproject.toml) ... \u001b[?25ldone\n",
      "\u001b[?25hRequirement already satisfied: importlib_metadata in /opt/conda/lib/python3.11/site-packages (from diffusers==0.33.0.dev0) (8.6.1)\n",
      "Requirement already satisfied: filelock in /opt/conda/lib/python3.11/site-packages (from diffusers==0.33.0.dev0) (3.16.1)\n",
      "Requirement already satisfied: huggingface-hub>=0.27.0 in /opt/conda/lib/python3.11/site-packages (from diffusers==0.33.0.dev0) (0.29.3)\n",
      "Requirement already satisfied: numpy in /opt/conda/lib/python3.11/site-packages (from diffusers==0.33.0.dev0) (2.1.2)\n",
      "Requirement already satisfied: regex!=2019.12.17 in /opt/conda/lib/python3.11/site-packages (from diffusers==0.33.0.dev0) (2024.11.6)\n",
      "Requirement already satisfied: requests in /opt/conda/lib/python3.11/site-packages (from diffusers==0.33.0.dev0) (2.32.3)\n",
      "Requirement already satisfied: safetensors>=0.3.1 in /opt/conda/lib/python3.11/site-packages (from diffusers==0.33.0.dev0) (0.5.3)\n",
      "Requirement already satisfied: Pillow in /opt/conda/lib/python3.11/site-packages (from diffusers==0.33.0.dev0) (10.2.0)\n",
      "Requirement already satisfied: fsspec>=2023.5.0 in /opt/conda/lib/python3.11/site-packages (from huggingface-hub>=0.27.0->diffusers==0.33.0.dev0) (2024.10.0)\n",
      "Requirement already satisfied: packaging>=20.9 in /opt/conda/lib/python3.11/site-packages (from huggingface-hub>=0.27.0->diffusers==0.33.0.dev0) (24.1)\n",
      "Requirement already satisfied: pyyaml>=5.1 in /opt/conda/lib/python3.11/site-packages (from huggingface-hub>=0.27.0->diffusers==0.33.0.dev0) (6.0.2)\n",
      "Requirement already satisfied: tqdm>=4.42.1 in /opt/conda/lib/python3.11/site-packages (from huggingface-hub>=0.27.0->diffusers==0.33.0.dev0) (4.66.5)\n",
      "Requirement already satisfied: typing-extensions>=3.7.4.3 in /opt/conda/lib/python3.11/site-packages (from huggingface-hub>=0.27.0->diffusers==0.33.0.dev0) (4.12.2)\n",
      "Requirement already satisfied: zipp>=3.20 in /opt/conda/lib/python3.11/site-packages (from importlib_metadata->diffusers==0.33.0.dev0) (3.20.2)\n",
      "Requirement already satisfied: charset-normalizer<4,>=2 in /opt/conda/lib/python3.11/site-packages (from requests->diffusers==0.33.0.dev0) (3.4.0)\n",
      "Requirement already satisfied: idna<4,>=2.5 in /opt/conda/lib/python3.11/site-packages (from requests->diffusers==0.33.0.dev0) (3.10)\n",
      "Requirement already satisfied: urllib3<3,>=1.21.1 in /opt/conda/lib/python3.11/site-packages (from requests->diffusers==0.33.0.dev0) (2.2.3)\n",
      "Requirement already satisfied: certifi>=2017.4.17 in /opt/conda/lib/python3.11/site-packages (from requests->diffusers==0.33.0.dev0) (2024.8.30)\n",
      "\u001b[33mWARNING: Running pip as the 'root' user can result in broken permissions and conflicting behaviour with the system package manager, possibly rendering your system unusable.It is recommended to use a virtual environment instead: https://pip.pypa.io/warnings/venv. Use the --root-user-action option if you know what you are doing and want to suppress this warning.\u001b[0m\u001b[33m\n",
      "Note: you may need to restart the kernel to use updated packages.\n"
     ]
    }
   ],
   "source": [
    "%pip install --upgrade git+https://github.com/huggingface/diffusers.git"
   ]
  },
  {
   "cell_type": "code",
   "execution_count": 3,
   "id": "c0e862ff-d33e-4022-b411-8b51e2a1e874",
   "metadata": {},
   "outputs": [
    {
     "name": "stdout",
     "output_type": "stream",
     "text": [
      "0.33.0.dev0\n"
     ]
    }
   ],
   "source": [
    "import diffusers\n",
    "print(diffusers.__version__)"
   ]
  },
  {
   "cell_type": "code",
   "execution_count": 4,
   "id": "17e4b26d-1fae-4600-a874-14862116e1de",
   "metadata": {},
   "outputs": [
    {
     "name": "stdout",
     "output_type": "stream",
     "text": [
      "Torch version: 2.6.0+cu124\n",
      "CUDA available? True\n"
     ]
    }
   ],
   "source": [
    "import torch\n",
    "\n",
    "print(\"Torch version:\", torch.__version__)\n",
    "print(\"CUDA available?\", torch.cuda.is_available())"
   ]
  },
  {
   "cell_type": "code",
   "execution_count": 5,
   "id": "3491c486-bcdf-408d-b848-03050c3e0167",
   "metadata": {},
   "outputs": [
    {
     "data": {
      "application/vnd.jupyter.widget-view+json": {
       "model_id": "0d73602c37b842d18e4e08475c9f4725",
       "version_major": 2,
       "version_minor": 0
      },
      "text/plain": [
       "VBox(children=(HTML(value='<center> <img\\nsrc=https://huggingface.co/front/assets/huggingface_logo-noborder.sv…"
      ]
     },
     "metadata": {},
     "output_type": "display_data"
    }
   ],
   "source": [
    "from huggingface_hub import notebook_login\n",
    "notebook_login()"
   ]
  },
  {
   "cell_type": "code",
   "execution_count": 6,
   "id": "17068969-521e-4e99-9b78-dd964d0fd9bc",
   "metadata": {},
   "outputs": [
    {
     "name": "stderr",
     "output_type": "stream",
     "text": [
      "Keyword arguments {'use_auth_token': True} are not expected by StableDiffusionPipeline and will be ignored.\n"
     ]
    },
    {
     "data": {
      "application/vnd.jupyter.widget-view+json": {
       "model_id": "2105478261ac4b4ba8d8148a1ccd5211",
       "version_major": 2,
       "version_minor": 0
      },
      "text/plain": [
       "Loading pipeline components...:   0%|          | 0/7 [00:00<?, ?it/s]"
      ]
     },
     "metadata": {},
     "output_type": "display_data"
    },
    {
     "name": "stdout",
     "output_type": "stream",
     "text": [
      "Pipeline loaded successfully!\n"
     ]
    }
   ],
   "source": [
    "from diffusers import StableDiffusionPipeline\n",
    "\n",
    "model_name = \"runwayml/stable-diffusion-v1-5\"\n",
    "pipe = StableDiffusionPipeline.from_pretrained(model_name, torch_dtype=torch.float16, use_auth_token=True)\n",
    "pipe = pipe.to(\"cuda\")\n",
    "\n",
    "print(\"Pipeline loaded successfully!\")"
   ]
  },
  {
   "cell_type": "code",
   "execution_count": null,
   "id": "8e750f06-3ddb-40fa-8938-053f12ff106a",
   "metadata": {},
   "outputs": [],
   "source": [
    "!git clone https://github.com/huggingface/diffusers.git"
   ]
  },
  {
   "cell_type": "code",
   "execution_count": 7,
   "id": "2de7353c-bf35-47c8-913d-298aa183c065",
   "metadata": {},
   "outputs": [
    {
     "name": "stdout",
     "output_type": "stream",
     "text": [
      "/root/diffusers/examples/dreambooth\n",
      "README.md\t\t   test_dreambooth_lora_edm.py\n",
      "README_flux.md\t\t   test_dreambooth_lora_flux.py\n",
      "README_lumina2.md\t   test_dreambooth_lora_lumina2.py\n",
      "README_sana.md\t\t   test_dreambooth_lora_sana.py\n",
      "README_sd3.md\t\t   test_dreambooth_lora_sd3.py\n",
      "README_sdxl.md\t\t   test_dreambooth_sd3.py\n",
      "convert_to_imagefolder.py  train_dreambooth.py\n",
      "requirements.txt\t   train_dreambooth_flax.py\n",
      "requirements_flax.txt\t   train_dreambooth_flux.py\n",
      "requirements_flux.txt\t   train_dreambooth_lora.py\n",
      "requirements_sana.txt\t   train_dreambooth_lora_flux.py\n",
      "requirements_sd3.txt\t   train_dreambooth_lora_lumina2.py\n",
      "requirements_sdxl.txt\t   train_dreambooth_lora_sana.py\n",
      "test_dreambooth.py\t   train_dreambooth_lora_sd3.py\n",
      "test_dreambooth_flux.py    train_dreambooth_lora_sdxl.py\n",
      "test_dreambooth_lora.py    train_dreambooth_sd3.py\n"
     ]
    }
   ],
   "source": [
    "%cd diffusers/examples/dreambooth\n",
    "!ls"
   ]
  },
  {
   "cell_type": "code",
   "execution_count": 16,
   "id": "61f60d8c-c7c9-4c98-b452-f7a52d957fdf",
   "metadata": {},
   "outputs": [],
   "source": [
    "mkdir /root/my_shoe_model"
   ]
  },
  {
   "cell_type": "code",
   "execution_count": 17,
   "id": "9295992e-142a-4de5-a744-a5a31ece9b50",
   "metadata": {},
   "outputs": [
    {
     "name": "stdout",
     "output_type": "stream",
     "text": [
      "The following values were not passed to `accelerate launch` and had defaults used instead:\n",
      "\t`--num_processes` was set to a value of `1`\n",
      "\t`--num_machines` was set to a value of `1`\n",
      "\t`--mixed_precision` was set to a value of `'no'`\n",
      "\t`--dynamo_backend` was set to a value of `'no'`\n",
      "To avoid this warning pass in values for each of the problematic parameters or run `accelerate config`.\n",
      "/opt/conda/lib/python3.11/site-packages/accelerate/accelerator.py:498: UserWarning: `log_with=tensorboard` was passed but no supported trackers are currently installed.\n",
      "  warnings.warn(f\"`log_with={log_with}` was passed but no supported trackers are currently installed.\")\n",
      "03/16/2025 14:10:06 - INFO - __main__ - Distributed environment: DistributedType.NO\n",
      "Num processes: 1\n",
      "Process index: 0\n",
      "Local process index: 0\n",
      "Device: cuda\n",
      "\n",
      "Mixed precision type: no\n",
      "\n",
      "You are using a model of type clip_text_model to instantiate a model of type . This is not supported for all configurations of models and can yield errors.\n",
      "{'prediction_type', 'sample_max_value', 'rescale_betas_zero_snr', 'thresholding', 'variance_type', 'timestep_spacing', 'dynamic_thresholding_ratio', 'clip_sample_range'} was not found in config. Values will be initialized to default values.\n",
      "Instantiating AutoencoderKL model under default dtype torch.float32.\n",
      "{'scaling_factor', 'shift_factor', 'force_upcast', 'latents_mean', 'latents_std', 'use_quant_conv', 'use_post_quant_conv', 'mid_block_add_attention'} was not found in config. Values will be initialized to default values.\n",
      "All model checkpoint weights were used when initializing AutoencoderKL.\n",
      "\n",
      "All the weights of AutoencoderKL were initialized from the model checkpoint at runwayml/stable-diffusion-v1-5.\n",
      "If your task is similar to the task the model of the checkpoint was trained on, you can already use AutoencoderKL for predictions without further training.\n",
      "Instantiating UNet2DConditionModel model under default dtype torch.float32.\n",
      "{'reverse_transformer_layers_per_block', 'resnet_skip_time_act', 'time_embedding_act_fn', 'only_cross_attention', 'projection_class_embeddings_input_dim', 'time_cond_proj_dim', 'num_class_embeds', 'upcast_attention', 'conv_out_kernel', 'class_embed_type', 'time_embedding_dim', 'mid_block_type', 'cross_attention_norm', 'attention_type', 'num_attention_heads', 'dropout', 'timestep_post_act', 'addition_embed_type_num_heads', 'resnet_out_scale_factor', 'addition_embed_type', 'time_embedding_type', 'use_linear_projection', 'encoder_hid_dim', 'resnet_time_scale_shift', 'conv_in_kernel', 'transformer_layers_per_block', 'mid_block_only_cross_attention', 'class_embeddings_concat', 'encoder_hid_dim_type', 'dual_cross_attention', 'addition_time_embed_dim'} was not found in config. Values will be initialized to default values.\n",
      "All model checkpoint weights were used when initializing UNet2DConditionModel.\n",
      "\n",
      "All the weights of UNet2DConditionModel were initialized from the model checkpoint at runwayml/stable-diffusion-v1-5.\n",
      "If your task is similar to the task the model of the checkpoint was trained on, you can already use UNet2DConditionModel for predictions without further training.\n",
      "03/16/2025 14:10:11 - INFO - __main__ - ***** Running training *****\n",
      "03/16/2025 14:10:11 - INFO - __main__ -   Num examples = 9\n",
      "03/16/2025 14:10:11 - INFO - __main__ -   Num batches each epoch = 3\n",
      "03/16/2025 14:10:11 - INFO - __main__ -   Num Epochs = 467\n",
      "03/16/2025 14:10:11 - INFO - __main__ -   Instantaneous batch size per device = 4\n",
      "03/16/2025 14:10:11 - INFO - __main__ -   Total train batch size (w. parallel, distributed & accumulation) = 4\n",
      "03/16/2025 14:10:11 - INFO - __main__ -   Gradient Accumulation steps = 1\n",
      "03/16/2025 14:10:11 - INFO - __main__ -   Total optimization steps = 1400\n",
      "Steps:  36%|████▎       | 500/1400 [07:11<13:43,  1.09it/s, loss=0.139, lr=3e-6]03/16/2025 14:17:23 - INFO - accelerate.accelerator - Saving current state to /root/my_shoe_model/checkpoint-500\n",
      "Configuration saved in /root/my_shoe_model/checkpoint-500/unet/config.json\n",
      "Model weights saved in /root/my_shoe_model/checkpoint-500/unet/diffusion_pytorch_model.safetensors\n",
      "03/16/2025 14:17:38 - INFO - accelerate.checkpointing - Optimizer state saved in /root/my_shoe_model/checkpoint-500/optimizer.bin\n",
      "03/16/2025 14:17:38 - INFO - accelerate.checkpointing - Scheduler state saved in /root/my_shoe_model/checkpoint-500/scheduler.bin\n",
      "03/16/2025 14:17:38 - INFO - accelerate.checkpointing - Sampler state for dataloader 0 saved in /root/my_shoe_model/checkpoint-500/sampler.bin\n",
      "03/16/2025 14:17:38 - INFO - accelerate.checkpointing - Random states saved in /root/my_shoe_model/checkpoint-500/random_states_0.pkl\n",
      "03/16/2025 14:17:38 - INFO - __main__ - Saved state to /root/my_shoe_model/checkpoint-500\n",
      "Steps:  71%|██████▍  | 1000/1400 [14:32<05:56,  1.12it/s, loss=0.00275, lr=3e-6]03/16/2025 14:24:43 - INFO - accelerate.accelerator - Saving current state to /root/my_shoe_model/checkpoint-1000\n",
      "Configuration saved in /root/my_shoe_model/checkpoint-1000/unet/config.json\n",
      "Model weights saved in /root/my_shoe_model/checkpoint-1000/unet/diffusion_pytorch_model.safetensors\n",
      "03/16/2025 14:24:58 - INFO - accelerate.checkpointing - Optimizer state saved in /root/my_shoe_model/checkpoint-1000/optimizer.bin\n",
      "03/16/2025 14:24:58 - INFO - accelerate.checkpointing - Scheduler state saved in /root/my_shoe_model/checkpoint-1000/scheduler.bin\n",
      "03/16/2025 14:24:58 - INFO - accelerate.checkpointing - Sampler state for dataloader 0 saved in /root/my_shoe_model/checkpoint-1000/sampler.bin\n",
      "03/16/2025 14:24:58 - INFO - accelerate.checkpointing - Random states saved in /root/my_shoe_model/checkpoint-1000/random_states_0.pkl\n",
      "03/16/2025 14:24:58 - INFO - __main__ - Saved state to /root/my_shoe_model/checkpoint-1000\n",
      "{'requires_safety_checker', 'image_encoder'} was not found in config. Values will be initialized to default values.\n",
      "\n",
      "Loading pipeline components...:   0%|                     | 0/7 [00:00<?, ?it/s]\u001b[AInstantiating AutoencoderKL model under default dtype torch.float32.\n",
      "{'scaling_factor', 'shift_factor', 'force_upcast', 'latents_mean', 'latents_std', 'use_quant_conv', 'use_post_quant_conv', 'mid_block_add_attention'} was not found in config. Values will be initialized to default values.\n",
      "All model checkpoint weights were used when initializing AutoencoderKL.\n",
      "\n",
      "All the weights of AutoencoderKL were initialized from the model checkpoint at /root/.cache/huggingface/hub/models--runwayml--stable-diffusion-v1-5/snapshots/451f4fe16113bff5a5d2269ed5ad43b0592e9a14/vae.\n",
      "If your task is similar to the task the model of the checkpoint was trained on, you can already use AutoencoderKL for predictions without further training.\n",
      "Loaded vae as AutoencoderKL from `vae` subfolder of runwayml/stable-diffusion-v1-5.\n",
      "Loaded tokenizer as CLIPTokenizer from `tokenizer` subfolder of runwayml/stable-diffusion-v1-5.\n",
      "\n",
      "Loading pipeline components...:  43%|█████▌       | 3/7 [00:00<00:00, 24.20it/s]\u001b[A{'prediction_type', 'timestep_spacing'} was not found in config. Values will be initialized to default values.\n",
      "Loaded scheduler as PNDMScheduler from `scheduler` subfolder of runwayml/stable-diffusion-v1-5.\n",
      "Loaded safety_checker as StableDiffusionSafetyChecker from `safety_checker` subfolder of runwayml/stable-diffusion-v1-5.\n",
      "\n",
      "Loading pipeline components...:  86%|███████████▏ | 6/7 [00:00<00:00, 13.26it/s]\u001b[ALoaded feature_extractor as CLIPImageProcessor from `feature_extractor` subfolder of runwayml/stable-diffusion-v1-5.\n",
      "Loading pipeline components...: 100%|█████████████| 7/7 [00:00<00:00, 16.55it/s]\n",
      "{'prediction_type', 'timestep_spacing'} was not found in config. Values will be initialized to default values.\n",
      "Configuration saved in /root/my_shoe_model/vae/config.json\n",
      "Model weights saved in /root/my_shoe_model/vae/diffusion_pytorch_model.safetensors\n",
      "Configuration saved in /root/my_shoe_model/unet/config.json\n",
      "Model weights saved in /root/my_shoe_model/unet/diffusion_pytorch_model.safetensors\n",
      "Configuration saved in /root/my_shoe_model/scheduler/scheduler_config.json\n",
      "Configuration saved in /root/my_shoe_model/model_index.json\n",
      "Steps: 100%|██████████| 1400/1400 [20:38<00:00,  1.13it/s, loss=0.0645, lr=3e-6]\n"
     ]
    }
   ],
   "source": [
    "!accelerate launch train_dreambooth.py \\\n",
    "  --pretrained_model_name_or_path=\"runwayml/stable-diffusion-v1-5\" \\\n",
    "  --instance_data_dir=\"/root/my_shoe_images\" \\\n",
    "  --output_dir=\"/root/my_shoe_model\" \\\n",
    "  --instance_prompt=\"photo of <myShoe> shoe\" \\\n",
    "  --resolution=512 \\\n",
    "  --train_batch_size=4 \\\n",
    "  --gradient_accumulation_steps=1 \\\n",
    "  --learning_rate=3e-6 \\\n",
    "  --lr_scheduler=\"constant\" \\\n",
    "  --lr_warmup_steps=0 \\\n",
    "  --num_class_images=100 \\\n",
    "  --max_train_steps=1400"
   ]
  },
  {
   "cell_type": "code",
   "execution_count": 18,
   "id": "b3916856-36fb-46b2-b066-39371497c7d7",
   "metadata": {},
   "outputs": [
    {
     "name": "stdout",
     "output_type": "stream",
     "text": [
      "/root\n"
     ]
    }
   ],
   "source": [
    "%cd /root"
   ]
  },
  {
   "cell_type": "code",
   "execution_count": 23,
   "id": "29eec40a-d6d9-4947-801e-31df72ae9b4c",
   "metadata": {},
   "outputs": [
    {
     "data": {
      "application/vnd.jupyter.widget-view+json": {
       "model_id": "328caa33565a4b3e9f39d6df3be6cba0",
       "version_major": 2,
       "version_minor": 0
      },
      "text/plain": [
       "Loading pipeline components...:   0%|          | 0/7 [00:00<?, ?it/s]"
      ]
     },
     "metadata": {},
     "output_type": "display_data"
    },
    {
     "data": {
      "application/vnd.jupyter.widget-view+json": {
       "model_id": "59a377a53408467c9ecf1eaa65b40634",
       "version_major": 2,
       "version_minor": 0
      },
      "text/plain": [
       "  0%|          | 0/50 [00:00<?, ?it/s]"
      ]
     },
     "metadata": {},
     "output_type": "display_data"
    }
   ],
   "source": [
    "from diffusers import StableDiffusionPipeline\n",
    "import torch\n",
    "\n",
    "pipe = StableDiffusionPipeline.from_pretrained(\"/root/my_shoe_model\", torch_dtype=torch.float16).to(\"cuda\")\n",
    "\n",
    "prompt = \"photo of <myShoe> shoe in white color,side view , pink background\"\n",
    "image = pipe(prompt, num_inference_steps=50, guidance_scale=7.5).images[0]\n",
    "image.save(\"my_shoe_photoshoot_3.png\")"
   ]
  },
  {
   "cell_type": "code",
   "execution_count": null,
   "id": "b1e4d2b8-5db9-44fa-90f1-31e68ca3800a",
   "metadata": {},
   "outputs": [],
   "source": []
  }
 ],
 "metadata": {
  "kernelspec": {
   "display_name": "Python 3 (ipykernel)",
   "language": "python",
   "name": "python3"
  },
  "language_info": {
   "codemirror_mode": {
    "name": "ipython",
    "version": 3
   },
   "file_extension": ".py",
   "mimetype": "text/x-python",
   "name": "python",
   "nbconvert_exporter": "python",
   "pygments_lexer": "ipython3",
   "version": "3.11.10"
  }
 },
 "nbformat": 4,
 "nbformat_minor": 5
}
